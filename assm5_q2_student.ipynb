{
 "cells": [
  {
   "cell_type": "markdown",
   "id": "d260182d",
   "metadata": {},
   "source": [
    "# Assignment 5 Problem 2:\n",
    "## Modelling Uncertain Concrete Strength"
   ]
  },
  {
   "cell_type": "markdown",
   "id": "1db6fea9-f3ad-44bc-a4c8-7b2b3008e945",
   "metadata": {
    "id": "1db6fea9-f3ad-44bc-a4c8-7b2b3008e945"
   },
   "source": [
    "Assessing the uncertainties in the compressive strength of the produced concrete is key for the safety of infrastructures and buildings. However, a lot of boundary conditions influence the final resistance of the concrete, such the cement content, the environmental temperature or the age of the concrete. Probabilistic tools can be applied to model this uncertainty. In this problem, you will work with a dataset of observations of the compressive strength of concrete (you can read more about the dataset [here](https://www.kaggle.com/datasets/gauravduttakiit/compressive-strength-of-concrete)). \n",
    "\n",
    "**The goal of this problem is:**\n",
    "1. Choose a reasonable distribution function for the concrete compressive strength analyzing the statistics of the observations.\n",
    "2. Fit the chosen distributions by moments.\n",
    "3. Assess the fit computing probabilities analytically.\n",
    "4. Assess the fit using goodness of fit techniques and computer code.\n",
    "\n",
    "The problem will be divided into 3 parts: 1) data analysis, 2) pen and paper stuff (math practice!), and 3) programming."
   ]
  },
  {
   "cell_type": "code",
   "execution_count": null,
   "id": "4fc6e87d-c66e-43df-a937-e969acc409f8",
   "metadata": {
    "id": "4fc6e87d-c66e-43df-a937-e969acc409f8"
   },
   "outputs": [],
   "source": [
    "import numpy as np\n",
    "import matplotlib.pyplot as plt\n",
    "import pandas as pd\n",
    "\n",
    "from scipy import stats \n",
    "from math import ceil, trunc\n",
    "\n",
    "plt.rcParams.update({'font.size': 14})"
   ]
  },
  {
   "cell_type": "markdown",
   "id": "1ee42f39",
   "metadata": {},
   "source": [
    "## Part 1: Explore the data"
   ]
  },
  {
   "cell_type": "markdown",
   "id": "27fd05f1",
   "metadata": {},
   "source": [
    "First step in the analysis is exploring the data, visually and through its statistics."
   ]
  },
  {
   "cell_type": "code",
   "execution_count": null,
   "id": "a2f08dc7",
   "metadata": {},
   "outputs": [],
   "source": [
    "# Import\n",
    "data = np.genfromtxt('dataset_concrete.csv', delimiter=\",\", skip_header=True)\n",
    "\n",
    "# Clean\n",
    "data = data[~np.isnan(data)]\n",
    "\n",
    "# plot time series\n",
    "plt.figure(figsize=(10, 6))\n",
    "plt.plot(data,'ok')\n",
    "plt.xlabel('# observation')\n",
    "plt.ylabel('Concrete compressive strength [MPa]')\n",
    "plt.grid()"
   ]
  },
  {
   "cell_type": "markdown",
   "id": "ab503914",
   "metadata": {},
   "source": [
    "In the figure above, you can see all the observations of concrete compressive strength. You can see that there is no clear pattern in the observations. Let's see how the statistics look like!"
   ]
  },
  {
   "cell_type": "code",
   "execution_count": null,
   "id": "a2a69142",
   "metadata": {},
   "outputs": [],
   "source": [
    "# Statistics\n",
    "\n",
    "df_describe = pd.DataFrame(data)\n",
    "df_describe.describe()"
   ]
  },
  {
   "cell_type": "markdown",
   "id": "bfadcf3f-4578-4809-acdb-625ab3a71f27",
   "metadata": {
    "id": "bfadcf3f-4578-4809-acdb-625ab3a71f27"
   },
   "source": [
    "<div style=\"background-color:#AABAB2; color: black; width:95%; vertical-align: middle; padding:15px; margin: 10px; border-radius: 10px\">\n",
    "<p>\n",
    "<b>Task 1.1:</b>   \n",
    "    Using <b>ONLY</b> the statistics calculated in the previous lines:\n",
    "    <li>Choose an appropriate distribution to model the data between the following: (1) Gumbel, (2) Uniform, and (3) Gaussian. </li>\n",
    "    <li>Justiy your choice.</li>\n",
    "</p>\n",
    "</div>"
   ]
  },
  {
   "cell_type": "markdown",
   "id": "480ea7ad",
   "metadata": {},
   "source": [
    "_Your answer here._"
   ]
  },
  {
   "cell_type": "markdown",
   "id": "d3bdade1-2694-4ee4-a180-3872ee17a76d",
   "metadata": {
    "id": "d3bdade1-2694-4ee4-a180-3872ee17a76d"
   },
   "source": [
    "<div style=\"background-color:#FAE99E; color: black; width:95%; vertical-align: middle; padding:15px; margin: 10px; border-radius: 10px\">\n",
    "    <b>Hint</b>\n",
    "    <li>Check if the observed concrete's strength has symmetric PDF or not. Note that out of three options, Uniform and Gaussian distributions are symmetric </li>\n",
    "</div>\n",
    "</div>"
   ]
  },
  {
   "cell_type": "markdown",
   "id": "d4886ae8",
   "metadata": {},
   "source": [
    "## Part 2: Use pen and paper!"
   ]
  },
  {
   "cell_type": "markdown",
   "id": "0609e0a6",
   "metadata": {},
   "source": [
    "Once you have selected the appropriate distribution, you are going to fit it by moments manually and check the fit by computing some probabilities analytically. Remember that you have all the information you need in the textbook. Do not use any computer code for this section, you have to do in with pen and paper. You can use the notebook as a calculator."
   ]
  },
  {
   "cell_type": "markdown",
   "id": "b20641d9",
   "metadata": {},
   "source": [
    "<div style=\"background-color:#AABAB2; color: black; width:95%; vertical-align: middle; padding:15px; margin: 10px; border-radius: 10px\">\n",
    "<p>\n",
    "<b>Task 2.1:</b>   \n",
    "Fit the selected distribution by moments. This involves finding the parameters of the distribution (in case of Gumbel, $\\mu and $\\beta$). Expectation and variance of Gumbel is given as:\n",
    "\n",
    "$\n",
    "    \\mathbb{E}(X) = \\mu + \\lambda \\beta \n",
    "$\n",
    "\n",
    "$\n",
    "    \\mathbb{V}ar(X) = \\frac{\\pi^2}{6} \\beta^2 \n",
    "$\n",
    "\n",
    "where lambda is 0.577, Euler's constant. \n",
    "</p>\n",
    "</div>"
   ]
  },
  {
   "cell_type": "markdown",
   "id": "c4fe2c98",
   "metadata": {},
   "source": [
    "_Your answer here._"
   ]
  },
  {
   "cell_type": "markdown",
   "id": "eca5289a",
   "metadata": {
    "id": "d3bdade1-2694-4ee4-a180-3872ee17a76d"
   },
   "source": [
    "<div style=\"background-color:#FAE99E; color: black; width:95%; vertical-align: middle; padding:15px; margin: 10px; border-radius: 10px\">\n",
    "    <b>Solution:</b>\n",
    "    Fitting by moments a distribution implies equating the moments of the observations to those of the parametric distribution. Applying then the expressions of the mean and variance of the Gumbel distribution we obtain:\n",
    "    \n",
    "$\n",
    "    \\mathbb{V}ar(X) = \\frac{\\pi^2}{6} \\beta^2 \\to \\beta = \\sqrt{\\frac{6\\mathbb{V}ar(X)}{\\pi^2}}=\\sqrt{\\frac{6 \\cdot 16.797^2}{\\pi^2}}= 13.097\n",
    "$\n",
    "\n",
    "$\n",
    "    \\mathbb{E}(X) = \\mu + \\lambda \\beta \\to \\mu = \\mathbb{E}(X) - \\lambda \\beta = 35.724 - 0.577 \\cdot 13.097 = 28.167\n",
    "    $\n",
    "</div>\n",
    "</div>"
   ]
  },
  {
   "cell_type": "markdown",
   "id": "bb364000",
   "metadata": {},
   "source": [
    "We can now check the fit by computing manually some probabilities from the fitted distribution and comparing them with the empirical ones."
   ]
  },
  {
   "cell_type": "markdown",
   "id": "8b40210f",
   "metadata": {},
   "source": [
    "<div style=\"background-color:#AABAB2; color: black; width:95%; vertical-align: middle; padding:15px; margin: 10px; border-radius: 10px\">\n",
    "<p>\n",
    "<b>Task 2.2:</b>   \n",
    "Check the fit of the distribution:\n",
    "    <li>Use the values obtained from the statistical inspection: the min, 25%, 50%, 75% and max values. What non-exceedance probabilities correspond to those values?</li>\n",
    "    <li>Compute the values of the random variable corresponding to those probabilities using the fitted distribution.</li>\n",
    "    <li>Compare the obtained values with the empirical ones and assess the fit.</li>\n",
    "</p>\n",
    "You can summarize you answers in the following table (report your values with 3-4 significant digits max, as needed).\n",
    "\n",
    "Note: you can compute the values of the random variable using the inverse of the CDF of the Gumbel distribution:\n",
    "     \n",
    "$\n",
    "F(x) = e^{-e^{-\\frac{x-\\mu}{\\beta}}} \\to x = -\\beta ln\\left(-lnF(x)\\right) + \\mu\n",
    "$\n",
    "</div>\n"
   ]
  },
  {
   "cell_type": "code",
   "execution_count": null,
   "id": "c8eccf83",
   "metadata": {},
   "outputs": [],
   "source": [
    "beta = # ENTER THE CALCULATED VALUE HERE \n",
    "mu = # ENTER THE CALCULATED VALUE HERE \n",
    "\n",
    "predicted_25pc = # ENTER THE EXPRESSION HERE\n",
    "predicted_50pc = # ENTER THE EXPRESSION HERE\n",
    "predicted_75pc = # ENTER THE EXPRESSION HERE\n",
    "predicted_max = # ENTER THE EXPRESSION HERE\n",
    "print(predicted_25pc, predicted_50pc, predicted_75pc, predicted_max)"
   ]
  },
  {
   "cell_type": "markdown",
   "id": "86895e1d",
   "metadata": {},
   "source": [
    "**POPULATE THIS TABLE WITH THE VALUES OBTAINED ABOVE!**\n",
    "\n",
    "|   |Minimum value|P25%|P50%|P75%|Maximum value|\n",
    "|---|-------------|----|----|----|-------------|\n",
    "|Non-exceedance probability| |  |  |  |  |\n",
    "|Empirical quantiles| | | | | |\n",
    "|Predicted quantiles||||||"
   ]
  },
  {
   "cell_type": "markdown",
   "id": "850d6d0c",
   "metadata": {},
   "source": [
    "## Part 3: Let's do it with Python!"
   ]
  },
  {
   "cell_type": "markdown",
   "id": "288edd58",
   "metadata": {},
   "source": [
    "Now, let's assess the performance using further goodness of fit metrics and see whether they are consistent with the previously done analysis."
   ]
  },
  {
   "cell_type": "markdown",
   "id": "f364c8cd",
   "metadata": {
    "id": "bfadcf3f-4578-4809-acdb-625ab3a71f27"
   },
   "source": [
    "<div style=\"background-color:#AABAB2; color: black; width:95%; vertical-align: middle; padding:15px; margin: 10px; border-radius: 10px\">\n",
    "<p>\n",
    "<b>Task 3.1:</b>   \n",
    "Prepare a function to compute the empirical cumulative distribution function. The function takes an argument of \"observations\" and spits empirical CDF (recall that the empirical CDF is essentially sorting the observed data and assigning increasing step of CDF values, e.g., 0/(n+1) for the smallest value, followed by 1/(n+1), 2/(n+1), and so on.\n",
    "</p>\n",
    "</div>"
   ]
  },
  {
   "cell_type": "code",
   "execution_count": null,
   "id": "3a47f881",
   "metadata": {},
   "outputs": [],
   "source": [
    "# def ecdf(YOUR_CODE_HERE):\n",
    "#     YOUR_CODE_HERE (sort the observations) \n",
    "#     YOUR_CODE_HERE (find the ECDF)\n",
    "#     return YOUR_CODE_HERE\n"
   ]
  },
  {
   "cell_type": "markdown",
   "id": "cb1ebc0c",
   "metadata": {
    "id": "bfadcf3f-4578-4809-acdb-625ab3a71f27"
   },
   "source": [
    "<div style=\"background-color:#AABAB2; color: black; width:95%; vertical-align: middle; padding:15px; margin: 10px; border-radius: 10px\">\n",
    "<p>\n",
    "<b>Task 3.2:</b>   \n",
    "Transform the fitted parameters for the selected distribution to loc-scale-shape.\n",
    "</p>\n",
    "</div>\n",
    "\n",
    "Hint: the distributions are in our online textbook, but it is also critical to make sure that the formulation in the book is identical to that of the Python package we are using. You can do this by finding the page of the relevant distribution in the [Scipy.stats](https://docs.scipy.org/doc/scipy/reference/stats.html) documentation."
   ]
  },
  {
   "cell_type": "markdown",
   "id": "fad4ba64",
   "metadata": {
    "id": "d3bdade1-2694-4ee4-a180-3872ee17a76d"
   },
   "source": [
    "<div style=\"background-color:#FAE99E; color: black; width:95%; vertical-align: middle; padding:15px; margin: 10px; border-radius: 10px\">\n",
    "    <b>Answer:</b>\n",
    "    The Gumbel distribution is already parameterized in terms of loc-scale-shape. You don't need to do anything!\n",
    "</div>\n",
    "</div>"
   ]
  },
  {
   "cell_type": "markdown",
   "id": "6a24dbfa",
   "metadata": {},
   "source": [
    "<div style=\"background-color:#AABAB2; color: black; width:95%; vertical-align: middle; padding:15px; margin: 10px; border-radius: 10px\">\n",
    "<p>\n",
    "<b>Task 3.3:</b>   \n",
    "Assess the goodness of fit of the fitted distribution by:\n",
    "    <li> Comparing the empirical and fitted PDF.</li>\n",
    "    <li> Using the exceedance plot in log-scale.</li>\n",
    "</p>\n",
    "</div>\n",
    "\n",
    "Hint: Use [Scipy](https://docs.scipy.org/doc/scipy/reference/stats.html) built in functions (watch out with the parameters definition!)."
   ]
  },
  {
   "cell_type": "code",
   "execution_count": null,
   "id": "31ef8aaf",
   "metadata": {},
   "outputs": [],
   "source": [
    "# loc = YOUR_CODE_HERE\n",
    "# scale = YOUR_CODE_HERE\n",
    "\n",
    "fig, axes = plt.subplots(1, 1, figsize=(10, 5))\n",
    "axes.hist(data,\n",
    "          edgecolor='k', linewidth=0.2, color='cornflowerblue',\n",
    "          label='Empirical PDF', density = True)\n",
    "axes.plot(np.sort(data), stats.gumbel_r.pdf(np.sort(data), loc, scale),\n",
    "          'k', linewidth=2, label='Gumbel PDF')\n",
    "axes.set_xlabel('Compressive strength [MPa]')\n",
    "axes.set_title('PDF', fontsize=18)\n",
    "axes.legend()"
   ]
  },
  {
   "cell_type": "markdown",
   "id": "5c0063aa",
   "metadata": {},
   "source": [
    "_Your answer here._"
   ]
  },
  {
   "cell_type": "code",
   "execution_count": null,
   "id": "f06b2706",
   "metadata": {},
   "outputs": [],
   "source": [
    "fig, axes = plt.subplots(1, 1, figsize=(10, 5))\n",
    "\n",
    "# axes.step(YOUR_CODE_HERE, YOUR_CODE_HERE, \n",
    "#           color='k', label='Empirical CDF')\n",
    "# axes.plot(YOUR_CODE_HERE, YOUR_CODE_HERE,\n",
    "#           color='cornflowerblue', label='YOUR_DISTRIBUTION_NAME_HERE CDF')\n",
    "axes.set_xlabel('Compressive strength [MPa]')\n",
    "axes.set_ylabel('${P[X > x]}$')\n",
    "axes.set_title('Exceedance plot in log-scale', fontsize=18)\n",
    "axes.set_yscale('log')\n",
    "axes.legend()\n",
    "axes.grid()"
   ]
  },
  {
   "cell_type": "markdown",
   "id": "51382bf8",
   "metadata": {},
   "source": [
    "**End of notebook.**"
   ]
  },
  {
   "cell_type": "markdown",
   "id": "0845fd26",
   "metadata": {},
   "source": []
  }
 ],
 "metadata": {
  "colab": {
   "collapsed_sections": [],
   "provenance": []
  },
  "kernelspec": {
   "display_name": "mude-base",
   "language": "python",
   "name": "python3"
  },
  "language_info": {
   "codemirror_mode": {
    "name": "ipython",
    "version": 3
   },
   "file_extension": ".py",
   "mimetype": "text/x-python",
   "name": "python",
   "nbconvert_exporter": "python",
   "pygments_lexer": "ipython3",
   "version": "3.12.11"
  },
  "widgets": {
   "application/vnd.jupyter.widget-state+json": {
    "392504e006074b76af62e617c4cde70e": {
     "model_module": "@jupyter-widgets/base",
     "model_module_version": "1.2.0",
     "model_name": "LayoutModel",
     "state": {
      "_model_module": "@jupyter-widgets/base",
      "_model_module_version": "1.2.0",
      "_model_name": "LayoutModel",
      "_view_count": null,
      "_view_module": "@jupyter-widgets/base",
      "_view_module_version": "1.2.0",
      "_view_name": "LayoutView",
      "align_content": null,
      "align_items": null,
      "align_self": null,
      "border": null,
      "bottom": null,
      "display": null,
      "flex": null,
      "flex_flow": null,
      "grid_area": null,
      "grid_auto_columns": null,
      "grid_auto_flow": null,
      "grid_auto_rows": null,
      "grid_column": null,
      "grid_gap": null,
      "grid_row": null,
      "grid_template_areas": null,
      "grid_template_columns": null,
      "grid_template_rows": null,
      "height": null,
      "justify_content": null,
      "justify_items": null,
      "left": null,
      "margin": null,
      "max_height": null,
      "max_width": null,
      "min_height": null,
      "min_width": null,
      "object_fit": null,
      "object_position": null,
      "order": null,
      "overflow": null,
      "overflow_x": null,
      "overflow_y": null,
      "padding": null,
      "right": null,
      "top": null,
      "visibility": null,
      "width": null
     }
    },
    "481c67caa6d1405ea2e00cfe6dbfa32f": {
     "model_module": "@jupyter-widgets/base",
     "model_module_version": "1.2.0",
     "model_name": "LayoutModel",
     "state": {
      "_model_module": "@jupyter-widgets/base",
      "_model_module_version": "1.2.0",
      "_model_name": "LayoutModel",
      "_view_count": null,
      "_view_module": "@jupyter-widgets/base",
      "_view_module_version": "1.2.0",
      "_view_name": "LayoutView",
      "align_content": null,
      "align_items": null,
      "align_self": null,
      "border": null,
      "bottom": null,
      "display": null,
      "flex": null,
      "flex_flow": null,
      "grid_area": null,
      "grid_auto_columns": null,
      "grid_auto_flow": null,
      "grid_auto_rows": null,
      "grid_column": null,
      "grid_gap": null,
      "grid_row": null,
      "grid_template_areas": null,
      "grid_template_columns": null,
      "grid_template_rows": null,
      "height": null,
      "justify_content": null,
      "justify_items": null,
      "left": null,
      "margin": null,
      "max_height": null,
      "max_width": null,
      "min_height": null,
      "min_width": null,
      "object_fit": null,
      "object_position": null,
      "order": null,
      "overflow": null,
      "overflow_x": null,
      "overflow_y": null,
      "padding": null,
      "right": null,
      "top": null,
      "visibility": null,
      "width": null
     }
    },
    "56b7808a3e2241679b15d517565eaf85": {
     "model_module": "@jupyter-widgets/controls",
     "model_module_version": "1.5.0",
     "model_name": "FloatSliderModel",
     "state": {
      "_dom_classes": [],
      "_model_module": "@jupyter-widgets/controls",
      "_model_module_version": "1.5.0",
      "_model_name": "FloatSliderModel",
      "_view_count": null,
      "_view_module": "@jupyter-widgets/controls",
      "_view_module_version": "1.5.0",
      "_view_name": "FloatSliderView",
      "continuous_update": true,
      "description": "sigma_T",
      "description_tooltip": null,
      "disabled": false,
      "layout": "IPY_MODEL_392504e006074b76af62e617c4cde70e",
      "max": 0.1,
      "min": 0,
      "orientation": "horizontal",
      "readout": true,
      "readout_format": ".2f",
      "step": 0.01,
      "style": "IPY_MODEL_b0d26f90109f4e0eb6839f0ba43ba980",
      "value": 0.1
     }
    },
    "b0d26f90109f4e0eb6839f0ba43ba980": {
     "model_module": "@jupyter-widgets/controls",
     "model_module_version": "1.5.0",
     "model_name": "SliderStyleModel",
     "state": {
      "_model_module": "@jupyter-widgets/controls",
      "_model_module_version": "1.5.0",
      "_model_name": "SliderStyleModel",
      "_view_count": null,
      "_view_module": "@jupyter-widgets/base",
      "_view_module_version": "1.2.0",
      "_view_name": "StyleView",
      "description_width": "",
      "handle_color": null
     }
    },
    "b560714d739d431d85b3ca1a9b378c8f": {
     "model_module": "@jupyter-widgets/controls",
     "model_module_version": "1.5.0",
     "model_name": "VBoxModel",
     "state": {
      "_dom_classes": [
       "widget-interact"
      ],
      "_model_module": "@jupyter-widgets/controls",
      "_model_module_version": "1.5.0",
      "_model_name": "VBoxModel",
      "_view_count": null,
      "_view_module": "@jupyter-widgets/controls",
      "_view_module_version": "1.5.0",
      "_view_name": "VBoxView",
      "box_style": "",
      "children": [
       "IPY_MODEL_56b7808a3e2241679b15d517565eaf85",
       "IPY_MODEL_d867da2ab3d441599b8356ac8e493611"
      ],
      "layout": "IPY_MODEL_481c67caa6d1405ea2e00cfe6dbfa32f"
     }
    },
    "d867da2ab3d441599b8356ac8e493611": {
     "model_module": "@jupyter-widgets/output",
     "model_module_version": "1.0.0",
     "model_name": "OutputModel",
     "state": {
      "_dom_classes": [],
      "_model_module": "@jupyter-widgets/output",
      "_model_module_version": "1.0.0",
      "_model_name": "OutputModel",
      "_view_count": null,
      "_view_module": "@jupyter-widgets/output",
      "_view_module_version": "1.0.0",
      "_view_name": "OutputView",
      "layout": "IPY_MODEL_ea4c3dc473df41a684cfe7fd1e7fb35d",
      "msg_id": "",
      "outputs": [
       {
        "data": {
         "image/png": "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\n",
         "text/plain": "<Figure size 1152x432 with 2 Axes>"
        },
        "metadata": {
         "needs_background": "light"
        },
        "output_type": "display_data"
       }
      ]
     }
    },
    "ea4c3dc473df41a684cfe7fd1e7fb35d": {
     "model_module": "@jupyter-widgets/base",
     "model_module_version": "1.2.0",
     "model_name": "LayoutModel",
     "state": {
      "_model_module": "@jupyter-widgets/base",
      "_model_module_version": "1.2.0",
      "_model_name": "LayoutModel",
      "_view_count": null,
      "_view_module": "@jupyter-widgets/base",
      "_view_module_version": "1.2.0",
      "_view_name": "LayoutView",
      "align_content": null,
      "align_items": null,
      "align_self": null,
      "border": null,
      "bottom": null,
      "display": null,
      "flex": null,
      "flex_flow": null,
      "grid_area": null,
      "grid_auto_columns": null,
      "grid_auto_flow": null,
      "grid_auto_rows": null,
      "grid_column": null,
      "grid_gap": null,
      "grid_row": null,
      "grid_template_areas": null,
      "grid_template_columns": null,
      "grid_template_rows": null,
      "height": null,
      "justify_content": null,
      "justify_items": null,
      "left": null,
      "margin": null,
      "max_height": null,
      "max_width": null,
      "min_height": null,
      "min_width": null,
      "object_fit": null,
      "object_position": null,
      "order": null,
      "overflow": null,
      "overflow_x": null,
      "overflow_y": null,
      "padding": null,
      "right": null,
      "top": null,
      "visibility": null,
      "width": null
     }
    }
   }
  }
 },
 "nbformat": 4,
 "nbformat_minor": 5
}
